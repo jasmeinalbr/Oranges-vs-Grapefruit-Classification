{
 "cells": [
  {
   "cell_type": "markdown",
   "id": "c6c19190",
   "metadata": {},
   "source": [
    "# Oranges vs Grapefruit Classification\n",
    "Link Dataset : https://www.kaggle.com/datasets/joshmcadams/oranges-vs-grapefruit\n",
    "## Decision Tree Classification"
   ]
  },
  {
   "cell_type": "markdown",
   "id": "0a891fd3",
   "metadata": {},
   "source": [
    "### Import Library"
   ]
  },
  {
   "cell_type": "code",
   "execution_count": null,
   "id": "ea0b5d5b",
   "metadata": {},
   "outputs": [],
   "source": [
    "import pandas as pd\n",
    "import numpy as np\n",
    "import matplotlib.pyplot as plt\n",
    "import seaborn as sns\n",
    "\n",
    "from sklearn.model_selection import train_test_split, GridSearchCV\n",
    "from sklearn.metrics import classification_report, confusion_matrix\n",
    "from sklearn.preprocessing import StandardScaler\n",
    "from sklearn.tree import DecisionTreeClassifier, plot_tree"
   ]
  }
 ],
 "metadata": {
  "kernelspec": {
   "display_name": "3.11.4",
   "language": "python",
   "name": "python3"
  },
  "language_info": {
   "name": "python",
   "version": "3.11.4"
  }
 },
 "nbformat": 4,
 "nbformat_minor": 5
}
